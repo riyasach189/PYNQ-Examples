{
 "cells": [
  {
   "cell_type": "code",
   "execution_count": 1,
   "metadata": {},
   "outputs": [
    {
     "data": {
      "application/javascript": [
       "\n",
       "require(['notebook/js/codecell'], function(codecell) {\n",
       "  codecell.CodeCell.options_default.highlight_modes[\n",
       "      'magic_text/x-csrc'] = {'reg':[/^%%microblaze/]};\n",
       "  Jupyter.notebook.events.one('kernel_ready.Kernel', function(){\n",
       "      Jupyter.notebook.get_cells().map(function(cell){\n",
       "          if (cell.cell_type == 'code'){ cell.auto_highlight(); } }) ;\n",
       "  });\n",
       "});\n"
      ]
     },
     "metadata": {},
     "output_type": "display_data"
    }
   ],
   "source": [
    "from pynq import Overlay\n",
    "ol = Overlay(\"hls_example.bit\")"
   ]
  },
  {
   "cell_type": "code",
   "execution_count": 2,
   "metadata": {},
   "outputs": [],
   "source": [
    "# ol?"
   ]
  },
  {
   "cell_type": "code",
   "execution_count": 3,
   "metadata": {},
   "outputs": [],
   "source": [
    "top_func = ol.example1_0           "
   ]
  },
  {
   "cell_type": "code",
   "execution_count": 4,
   "metadata": {},
   "outputs": [
    {
     "data": {
      "text/plain": [
       "RegisterMap {\n",
       "  A_V = Register(A_V=0),\n",
       "  B_V = Register(B_V=0),\n",
       "  C_V = Register(C_V=0),\n",
       "  Y_V = Register(Y_V=0),\n",
       "  Y_V_ctrl = Register(Y_V_ap_vld=1, RESERVED=0)\n",
       "}"
      ]
     },
     "execution_count": 4,
     "metadata": {},
     "output_type": "execute_result"
    }
   ],
   "source": [
    "top_func.register_map"
   ]
  },
  {
   "cell_type": "code",
   "execution_count": 5,
   "metadata": {},
   "outputs": [],
   "source": [
    "a = 1979\n",
    "b = 9023\n",
    "c = 112"
   ]
  },
  {
   "cell_type": "code",
   "execution_count": 6,
   "metadata": {},
   "outputs": [],
   "source": [
    "top_func.write(0x10, a)\n",
    "top_func.write(0x18, b)\n",
    "top_func.write(0x20, c)\n",
    "# top_func.register_map.A_V = a\n",
    "# top_func.register_map.B_V = b\n",
    "# top_func.register_map.C_V = c"
   ]
  },
  {
   "cell_type": "code",
   "execution_count": 7,
   "metadata": {},
   "outputs": [
    {
     "data": {
      "text/plain": [
       "1979"
      ]
     },
     "execution_count": 7,
     "metadata": {},
     "output_type": "execute_result"
    }
   ],
   "source": [
    "# top_func.register_map.A_V?\n",
    "a_read = top_func.read(0x10)\n",
    "a_read"
   ]
  },
  {
   "cell_type": "code",
   "execution_count": 8,
   "metadata": {},
   "outputs": [
    {
     "data": {
      "text/plain": [
       "RegisterMap {\n",
       "  A_V = Register(A_V=1979),\n",
       "  B_V = Register(B_V=9023),\n",
       "  C_V = Register(C_V=112),\n",
       "  Y_V = Register(Y_V=19913),\n",
       "  Y_V_ctrl = Register(Y_V_ap_vld=1, RESERVED=0)\n",
       "}"
      ]
     },
     "execution_count": 8,
     "metadata": {},
     "output_type": "execute_result"
    }
   ],
   "source": [
    "top_func.register_map"
   ]
  },
  {
   "cell_type": "code",
   "execution_count": 9,
   "metadata": {},
   "outputs": [
    {
     "name": "stdout",
     "output_type": "stream",
     "text": [
      "19913\n"
     ]
    }
   ],
   "source": [
    "print(a + 2*b - c)"
   ]
  },
  {
   "cell_type": "code",
   "execution_count": 10,
   "metadata": {},
   "outputs": [
    {
     "data": {
      "text/plain": [
       "19913"
      ]
     },
     "execution_count": 10,
     "metadata": {},
     "output_type": "execute_result"
    }
   ],
   "source": [
    "output = top_func.read(0x28)\n",
    "# output = top_func.register_map.Y_V\n",
    "output"
   ]
  },
  {
   "cell_type": "code",
   "execution_count": 11,
   "metadata": {},
   "outputs": [
    {
     "data": {
      "text/plain": [
       "RegisterMap {\n",
       "  A_V = Register(A_V=1979),\n",
       "  B_V = Register(B_V=9023),\n",
       "  C_V = Register(C_V=112),\n",
       "  Y_V = Register(Y_V=19913),\n",
       "  Y_V_ctrl = Register(Y_V_ap_vld=1, RESERVED=0)\n",
       "}"
      ]
     },
     "execution_count": 11,
     "metadata": {},
     "output_type": "execute_result"
    }
   ],
   "source": [
    "top_func.write(0x28, 10)\n",
    "top_func.register_map"
   ]
  },
  {
   "cell_type": "code",
   "execution_count": 12,
   "metadata": {},
   "outputs": [
    {
     "data": {
      "text/plain": [
       "'0b100110111001001'"
      ]
     },
     "execution_count": 12,
     "metadata": {},
     "output_type": "execute_result"
    }
   ],
   "source": [
    "bin(output)"
   ]
  },
  {
   "cell_type": "code",
   "execution_count": 13,
   "metadata": {},
   "outputs": [],
   "source": [
    "def uint_to_int(num, bits):\n",
    "    # Computes 2's complement\n",
    "    if (num & (1 << (bits - 1))) != 0:  # If the sign bit is set\n",
    "        num = num - (1 << bits)         # Compute the negative value\n",
    "\n",
    "    return num                          # Return positive value as is\n"
   ]
  },
  {
   "cell_type": "code",
   "execution_count": 14,
   "metadata": {},
   "outputs": [
    {
     "name": "stdout",
     "output_type": "stream",
     "text": [
      "19913\n"
     ]
    }
   ],
   "source": [
    "print(uint_to_int(output, 32))"
   ]
  },
  {
   "cell_type": "code",
   "execution_count": 15,
   "metadata": {},
   "outputs": [
    {
     "name": "stdout",
     "output_type": "stream",
     "text": [
      "PS: 1493  PL: 1493\n",
      "PS: 690  PL: 690\n",
      "PS: 1603  PL: 1603\n",
      "PS: 1907  PL: 1907\n",
      "PS: 1721  PL: 1721\n",
      "PS: 1126  PL: 1126\n",
      "PS: 692  PL: 692\n",
      "PS: 393  PL: 393\n",
      "PS: 561  PL: 561\n",
      "PS: 673  PL: 673\n"
     ]
    }
   ],
   "source": [
    "# Testing IP\n",
    "import random\n",
    "\n",
    "for i in range(10):\n",
    "    a = random.randint(1, 999)\n",
    "    b = random.randint(1, 999)\n",
    "    c = random.randint(1, 999)\n",
    "    top_func.register_map.A_V = a\n",
    "    top_func.register_map.B_V = b\n",
    "    top_func.register_map.C_V = c\n",
    "    \n",
    "    ps_output = a + 2*b - c\n",
    "    \n",
    "    pl_output = uint_to_int(top_func.read(0x28), 32)\n",
    "    \n",
    "    if (ps_output != pl_output):\n",
    "        print(\"Data mismatch!\")\n",
    "        \n",
    "    else:\n",
    "        print(\"PS: \" + str(ps_output) + \"  \" + \"PL: \" + str(pl_output))"
   ]
  },
  {
   "cell_type": "code",
   "execution_count": null,
   "metadata": {},
   "outputs": [],
   "source": []
  }
 ],
 "metadata": {
  "kernelspec": {
   "display_name": "Python 3",
   "language": "python",
   "name": "python3"
  },
  "language_info": {
   "codemirror_mode": {
    "name": "ipython",
    "version": 3
   },
   "file_extension": ".py",
   "mimetype": "text/x-python",
   "name": "python",
   "nbconvert_exporter": "python",
   "pygments_lexer": "ipython3",
   "version": "3.6.5"
  }
 },
 "nbformat": 4,
 "nbformat_minor": 4
}
