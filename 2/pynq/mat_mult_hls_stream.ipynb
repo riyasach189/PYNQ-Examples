{
 "cells": [
  {
   "cell_type": "code",
   "execution_count": 1,
   "metadata": {},
   "outputs": [
    {
     "data": {
      "application/javascript": [
       "\n",
       "require(['notebook/js/codecell'], function(codecell) {\n",
       "  codecell.CodeCell.options_default.highlight_modes[\n",
       "      'magic_text/x-csrc'] = {'reg':[/^%%microblaze/]};\n",
       "  Jupyter.notebook.events.one('kernel_ready.Kernel', function(){\n",
       "      Jupyter.notebook.get_cells().map(function(cell){\n",
       "          if (cell.cell_type == 'code'){ cell.auto_highlight(); } }) ;\n",
       "  });\n",
       "});\n"
      ]
     },
     "metadata": {},
     "output_type": "display_data"
    }
   ],
   "source": [
    "from pynq import Overlay\n",
    "ol = Overlay(\"matmult_stream_2022.bit\")"
   ]
  },
  {
   "cell_type": "code",
   "execution_count": 2,
   "metadata": {},
   "outputs": [],
   "source": [
    "ol?"
   ]
  },
  {
   "cell_type": "code",
   "execution_count": 3,
   "metadata": {},
   "outputs": [],
   "source": [
    "data_channel = ol.axi_dma_0"
   ]
  },
  {
   "cell_type": "markdown",
   "metadata": {},
   "source": [
    "# Create Data"
   ]
  },
  {
   "cell_type": "code",
   "execution_count": 4,
   "metadata": {},
   "outputs": [],
   "source": [
    "import numpy as np\n",
    "\n",
    "input_A = np.random.randint(1, 21, size=(8, 8))\n",
    "input_B = np.random.randint(1, 21, size=(8, 8))"
   ]
  },
  {
   "cell_type": "markdown",
   "metadata": {},
   "source": [
    "# PS Implementation"
   ]
  },
  {
   "cell_type": "code",
   "execution_count": 5,
   "metadata": {},
   "outputs": [
    {
     "data": {
      "text/plain": [
       "array([[ 894, 1167,  835,  715,  684,  696,  800,  662],\n",
       "       [ 925,  968,  649,  914,  707,  902,  894,  606],\n",
       "       [1301, 1601,  956,  940, 1115, 1225, 1158,  832],\n",
       "       [ 890,  883,  699,  779,  763,  955,  915,  633],\n",
       "       [1358, 1594,  992, 1240, 1190, 1202, 1107,  944],\n",
       "       [1073, 1141,  754,  687,  777,  809,  850,  672],\n",
       "       [1179, 1211,  898,  877,  937, 1190, 1165,  787],\n",
       "       [1189, 1408,  881, 1032,  981, 1056,  987,  892]])"
      ]
     },
     "execution_count": 5,
     "metadata": {},
     "output_type": "execute_result"
    }
   ],
   "source": [
    "output_C_ps = np.dot(input_A, input_B)\n",
    "output_C_ps"
   ]
  },
  {
   "cell_type": "markdown",
   "metadata": {},
   "source": [
    "# PL Implementation"
   ]
  },
  {
   "cell_type": "code",
   "execution_count": 6,
   "metadata": {},
   "outputs": [],
   "source": [
    "from pynq import allocate"
   ]
  },
  {
   "cell_type": "code",
   "execution_count": 7,
   "metadata": {},
   "outputs": [],
   "source": [
    "input_buffer = allocate((16,8),np.single)\n",
    "output_buffer = allocate((8,8),np.single)"
   ]
  },
  {
   "cell_type": "code",
   "execution_count": 8,
   "metadata": {},
   "outputs": [],
   "source": [
    "send_channel = data_channel.sendchannel\n",
    "recv_channel = data_channel.recvchannel"
   ]
  },
  {
   "cell_type": "code",
   "execution_count": 9,
   "metadata": {},
   "outputs": [
    {
     "data": {
      "text/plain": [
       "array([[ 1,  2, 17,  7, 20, 17,  7,  9],\n",
       "       [ 4, 17,  2, 17,  1, 17, 10, 17],\n",
       "       [16, 15, 17, 13, 20,  2, 16, 20],\n",
       "       [12, 13, 18, 16,  7,  5,  3,  7],\n",
       "       [16,  8, 19, 15, 11, 19, 14, 20],\n",
       "       [ 7,  9, 19,  6, 12, 12,  5, 16],\n",
       "       [15, 19, 19, 18, 14,  2,  5, 13],\n",
       "       [18, 15,  3, 14, 18, 14, 10, 17],\n",
       "       [11, 11,  2, 14, 18, 11,  1, 13],\n",
       "       [13,  6,  3,  2, 10, 16, 18,  8],\n",
       "       [14, 12, 10,  6, 13, 13, 14,  7],\n",
       "       [ 4,  5, 15, 20,  2, 16, 16,  5],\n",
       "       [10, 20, 16,  2,  4,  5, 10, 10],\n",
       "       [12, 13,  9, 18, 11,  6,  7, 14],\n",
       "       [ 1, 20,  1, 13, 18, 13,  7,  2],\n",
       "       [20, 16,  8,  2,  2,  3,  5,  3]])"
      ]
     },
     "execution_count": 9,
     "metadata": {},
     "output_type": "execute_result"
    }
   ],
   "source": [
    "matrix_16x8 = np.vstack((input_A, input_B))\n",
    "matrix_16x8"
   ]
  },
  {
   "cell_type": "code",
   "execution_count": 10,
   "metadata": {},
   "outputs": [],
   "source": [
    "np.copyto(input_buffer, matrix_16x8)"
   ]
  },
  {
   "cell_type": "code",
   "execution_count": 11,
   "metadata": {},
   "outputs": [],
   "source": [
    "input_buffer?"
   ]
  },
  {
   "cell_type": "code",
   "execution_count": 12,
   "metadata": {},
   "outputs": [
    {
     "data": {
      "text/plain": [
       "array([[ 1,  2, 17,  7, 20, 17,  7,  9],\n",
       "       [ 4, 17,  2, 17,  1, 17, 10, 17],\n",
       "       [16, 15, 17, 13, 20,  2, 16, 20],\n",
       "       [12, 13, 18, 16,  7,  5,  3,  7],\n",
       "       [16,  8, 19, 15, 11, 19, 14, 20],\n",
       "       [ 7,  9, 19,  6, 12, 12,  5, 16],\n",
       "       [15, 19, 19, 18, 14,  2,  5, 13],\n",
       "       [18, 15,  3, 14, 18, 14, 10, 17]])"
      ]
     },
     "execution_count": 12,
     "metadata": {},
     "output_type": "execute_result"
    }
   ],
   "source": [
    "input_A"
   ]
  },
  {
   "cell_type": "code",
   "execution_count": 13,
   "metadata": {},
   "outputs": [
    {
     "data": {
      "text/plain": [
       "array([[11, 11,  2, 14, 18, 11,  1, 13],\n",
       "       [13,  6,  3,  2, 10, 16, 18,  8],\n",
       "       [14, 12, 10,  6, 13, 13, 14,  7],\n",
       "       [ 4,  5, 15, 20,  2, 16, 16,  5],\n",
       "       [10, 20, 16,  2,  4,  5, 10, 10],\n",
       "       [12, 13,  9, 18, 11,  6,  7, 14],\n",
       "       [ 1, 20,  1, 13, 18, 13,  7,  2],\n",
       "       [20, 16,  8,  2,  2,  3,  5,  3]])"
      ]
     },
     "execution_count": 13,
     "metadata": {},
     "output_type": "execute_result"
    }
   ],
   "source": [
    "input_B"
   ]
  },
  {
   "cell_type": "code",
   "execution_count": 14,
   "metadata": {},
   "outputs": [],
   "source": [
    "send_channel.transfer(input_buffer)\n",
    "recv_channel.transfer(output_buffer)\n",
    "send_channel.wait()\n",
    "recv_channel.wait()"
   ]
  },
  {
   "cell_type": "code",
   "execution_count": 15,
   "metadata": {},
   "outputs": [],
   "source": [
    "output_C_pl = np.array([[0]*8]*8, dtype = np.single)\n",
    "np.copyto(output_C_pl, output_buffer)"
   ]
  },
  {
   "cell_type": "markdown",
   "metadata": {},
   "source": [
    "# Comparison between PS and PL Output"
   ]
  },
  {
   "cell_type": "code",
   "execution_count": 16,
   "metadata": {},
   "outputs": [
    {
     "name": "stdout",
     "output_type": "stream",
     "text": [
      "[[ 894 1167  835  715  684  696  800  662]\n",
      " [ 925  968  649  914  707  902  894  606]\n",
      " [1301 1601  956  940 1115 1225 1158  832]\n",
      " [ 890  883  699  779  763  955  915  633]\n",
      " [1358 1594  992 1240 1190 1202 1107  944]\n",
      " [1073 1141  754  687  777  809  850  672]\n",
      " [1179 1211  898  877  937 1190 1165  787]\n",
      " [1189 1408  881 1032  981 1056  987  892]]\n",
      "[[  894.  1167.   835.   715.   684.   696.   800.   662.]\n",
      " [  925.   968.   649.   914.   707.   902.   894.   606.]\n",
      " [ 1301.  1601.   956.   940.  1115.  1225.  1158.   832.]\n",
      " [  890.   883.   699.   779.   763.   955.   915.   633.]\n",
      " [ 1358.  1594.   992.  1240.  1190.  1202.  1107.   944.]\n",
      " [ 1073.  1141.   754.   687.   777.   809.   850.   672.]\n",
      " [ 1179.  1211.   898.   877.   937.  1190.  1165.   787.]\n",
      " [ 1189.  1408.   881.  1032.   981.  1056.   987.   892.]]\n"
     ]
    }
   ],
   "source": [
    "print(output_C_ps)\n",
    "print(output_C_pl)"
   ]
  },
  {
   "cell_type": "code",
   "execution_count": null,
   "metadata": {},
   "outputs": [],
   "source": []
  }
 ],
 "metadata": {
  "kernelspec": {
   "display_name": "Python 3",
   "language": "python",
   "name": "python3"
  },
  "language_info": {
   "codemirror_mode": {
    "name": "ipython",
    "version": 3
   },
   "file_extension": ".py",
   "mimetype": "text/x-python",
   "name": "python",
   "nbconvert_exporter": "python",
   "pygments_lexer": "ipython3",
   "version": "3.6.5"
  }
 },
 "nbformat": 4,
 "nbformat_minor": 4
}
